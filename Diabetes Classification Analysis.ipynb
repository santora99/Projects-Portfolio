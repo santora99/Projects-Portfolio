{
 "cells": [
  {
   "cell_type": "code",
   "execution_count": 1,
   "id": "8ad711f8",
   "metadata": {},
   "outputs": [
    {
     "name": "stdout",
     "output_type": "stream",
     "text": [
      "Number of rows and columns after removing irrelevant columns: (5132, 10)\n",
      "\n",
      "Data types present in the dataset:\n",
      "Age            int64\n",
      "Gender        object\n",
      "BMI            int64\n",
      "Chol         float64\n",
      "TG           float64\n",
      "HDL          float64\n",
      "LDL          float64\n",
      "Cr           float64\n",
      "BUN          float64\n",
      "Diagnosis      int64\n",
      "dtype: object\n",
      "\n",
      "Statistical summary for numerical attributes:\n",
      "            count       mean        std        min    25%    50%    75%  \\\n",
      "Age        5132.0  48.950312  14.048794  20.000000  36.00  49.00  59.00   \n",
      "BMI        5132.0  24.613406   4.277205  15.000000  22.00  24.00  27.00   \n",
      "Chol       5132.0   4.866882   1.001052   0.000000   4.19   4.80   5.46   \n",
      "TG         5132.0   1.719328   1.327057   0.000000   0.91   1.38   2.10   \n",
      "HDL        5132.0   1.593305   1.038849   0.000000   1.09   1.30   1.59   \n",
      "LDL        5132.0   2.914121   0.945423   0.300000   2.29   2.79   3.40   \n",
      "Cr         5132.0  71.144800  28.494394   4.860753  58.00  70.20  81.60   \n",
      "BUN        5132.0   4.896969   1.689206   0.500000   3.90   4.72   5.60   \n",
      "Diagnosis  5132.0   0.388348   0.487422   0.000000   0.00   0.00   1.00   \n",
      "\n",
      "              max  \n",
      "Age         93.00  \n",
      "BMI         47.00  \n",
      "Chol        11.65  \n",
      "TG          32.64  \n",
      "HDL          9.90  \n",
      "LDL          9.90  \n",
      "Cr         800.00  \n",
      "BUN         38.90  \n",
      "Diagnosis    1.00  \n"
     ]
    }
   ],
   "source": [
    "import pandas as pd\n",
    "\n",
    "# Load the dataset\n",
    "diabetes_data = pd.read_csv(\"Diabetes Classification.csv\")\n",
    "\n",
    "# Drop unnamed or index columns\n",
    "diabetes_data = diabetes_data.loc[:, ~diabetes_data.columns.str.contains('^Unnamed')]\n",
    "# This line drops any column with 'Unnamed' in its name.\n",
    "\n",
    "# Display the shape of the dataset\n",
    "print(\"Number of rows and columns after removing irrelevant columns:\", diabetes_data.shape)\n",
    "\n",
    "# Check the types of data\n",
    "data_types = diabetes_data.dtypes\n",
    "print(\"\\nData types present in the dataset:\")\n",
    "print(data_types)\n",
    "\n",
    "# Display statistical summary for numerical attributes\n",
    "numerical_summary = diabetes_data.describe().T\n",
    "print(\"\\nStatistical summary for numerical attributes:\")\n",
    "print(numerical_summary)\n"
   ]
  },
  {
   "cell_type": "code",
   "execution_count": 2,
   "id": "c01e7580",
   "metadata": {},
   "outputs": [
    {
     "name": "stdout",
     "output_type": "stream",
     "text": [
      "Total number of individuals diagnosed with diabetes: 1993\n",
      "Average cholesterol level for individuals with BMI over 25 is 5.002230568460308\n",
      "\n",
      "Gender distribution within the dataset:\n",
      "M    3256\n",
      "F    1875\n",
      "f       1\n",
      "Name: Gender, dtype: int64\n"
     ]
    }
   ],
   "source": [
    "# Counting the number of individuals diagnosed with diabetes\n",
    "diabetes_count = diabetes_data[diabetes_data['Diagnosis'] == 1].shape[0]\n",
    "print(\"Total number of individuals diagnosed with diabetes:\", diabetes_count)\n",
    "\n",
    "# Filtering the dataset for only individuals with a BMI over 25 \n",
    "high_bmi_data = diabetes_data[diabetes_data['BMI'] > 25]\n",
    "\n",
    "# Calculating the average cholesterol level for this group\n",
    "average_cholesterol = high_bmi_data['Chol'].mean()\n",
    "print(\"Average cholesterol level for individuals with BMI over 25 is\", average_cholesterol)\n",
    "\n",
    "# Identifying the gender distribution within the dataset\n",
    "gender_distribution = diabetes_data['Gender'].value_counts()\n",
    "print(\"\\nGender distribution within the dataset:\")\n",
    "print(gender_distribution)\n"
   ]
  },
  {
   "cell_type": "code",
   "execution_count": 3,
   "id": "0daa4b10",
   "metadata": {},
   "outputs": [
    {
     "name": "stdout",
     "output_type": "stream",
     "text": [
      "Average age for individuals with diabetes by gender:\n",
      "Gender\n",
      "F    58.416116\n",
      "M    58.067206\n",
      "f    55.000000\n",
      "Name: Age, dtype: float64\n",
      "\n",
      "Average Creatinine levels for males and females:\n",
      "Gender\n",
      "F    57.859409\n",
      "M    78.806733\n",
      "f    34.000000\n",
      "Name: Cr, dtype: float64\n",
      "\n",
      "Average LDL levels for individuals without diabetes and high triglyceride levels: 2.9291171003717467\n"
     ]
    }
   ],
   "source": [
    "# For individuals with diabetes, calculate the average age for each gender\n",
    "diabetes_data_filtered = diabetes_data[diabetes_data['Diagnosis'] == 1]\n",
    "average_age_by_gender = diabetes_data_filtered.groupby('Gender')['Age'].mean()\n",
    "print(\"Average age for individuals with diabetes by gender:\")\n",
    "print(average_age_by_gender)\n",
    "\n",
    "# Calculate the average Creatinine (Cr) levels for males and females\n",
    "average_creatinine_by_gender = diabetes_data.groupby('Gender')['Cr'].mean()\n",
    "print(\"\\nAverage Creatinine levels for males and females:\")\n",
    "print(average_creatinine_by_gender)\n",
    "\n",
    "# Calculating the average LDL levels for individuals without diabetes, and with high triglyceride levels (TG > 1.5)\n",
    "no_diabetes_high_triglyceride = diabetes_data[(diabetes_data['Diagnosis'] == 0) & (diabetes_data['TG'] > 1.5)]\n",
    "average_ldl_for_high_triglyceride = no_diabetes_high_triglyceride['LDL'].mean()\n",
    "print(\"\\nAverage LDL levels for individuals without diabetes and high triglyceride levels:\", average_ldl_for_high_triglyceride)\n"
   ]
  },
  {
   "cell_type": "code",
   "execution_count": 4,
   "id": "c1e9c829",
   "metadata": {},
   "outputs": [
    {
     "name": "stdout",
     "output_type": "stream",
     "text": [
      "Mean values for numerical columns grouped by 'Diagnosis':\n",
      "                 Age        BMI      Chol        TG       HDL       LDL  \\\n",
      "Diagnosis                                                                 \n",
      "0          43.078687  23.156419  4.762265  1.463711  1.337069  2.740436   \n",
      "1          58.198194  26.908179  5.031656  2.121927  1.996879  3.187675   \n",
      "\n",
      "                  Cr       BUN  \n",
      "Diagnosis                       \n",
      "0          71.991555  4.718308  \n",
      "1          69.811152  5.178362  \n",
      "\n",
      "Average cholesterol level for each BMI category:\n",
      "BMI Category\n",
      "Normal weight    4.802203\n",
      "Obese            4.969413\n",
      "Overweight       4.986071\n",
      "Underweight      4.436639\n",
      "Name: Chol, dtype: float64\n",
      "\n",
      "Average age by gender and diagnosis:\n",
      "Gender  Diagnosis\n",
      "F       0            42.849732\n",
      "        1            58.416116\n",
      "M       0            43.205344\n",
      "        1            58.067206\n",
      "f       1            55.000000\n",
      "Name: Age, dtype: float64\n"
     ]
    }
   ],
   "source": [
    "# Grouping the dataset by 'Diagnosis' and calculate the mean for all numerical columns\n",
    "mean_by_diagnosis = diabetes_data.groupby('Diagnosis').mean(numeric_only=True)\n",
    "print(\"Mean values for numerical columns grouped by 'Diagnosis':\")\n",
    "print(mean_by_diagnosis)\n",
    "\n",
    "# For each BMI category, calculate the average cholesterol level\n",
    "def categorize_bmi(bmi):\n",
    "    if bmi < 18.5:\n",
    "        return 'Underweight'\n",
    "    elif bmi >= 18.5 and bmi < 25:\n",
    "        return 'Normal weight'\n",
    "    elif bmi >= 25 and bmi < 30:\n",
    "        return 'Overweight'\n",
    "    else:\n",
    "        return 'Obese'\n",
    "\n",
    "# With the help of ChatGPT\n",
    "diabetes_data['BMI Category'] = diabetes_data['BMI'].apply(categorize_bmi)\n",
    "average_cholesterol_by_bmi = diabetes_data.groupby('BMI Category')['Chol'].mean()\n",
    "print(\"\\nAverage cholesterol level for each BMI category:\")\n",
    "print(average_cholesterol_by_bmi)\n",
    "\n",
    "# Group the data by 'Gender' and 'Diagnosis', and finding the average age in each group\n",
    "average_age_by_gender_diagnosis = diabetes_data.groupby(['Gender', 'Diagnosis'])['Age'].mean()\n",
    "print(\"\\nAverage age by gender and diagnosis:\")\n",
    "print(average_age_by_gender_diagnosis)\n"
   ]
  },
  {
   "cell_type": "code",
   "execution_count": null,
   "id": "acfe4cd8",
   "metadata": {},
   "outputs": [],
   "source": []
  }
 ],
 "metadata": {
  "kernelspec": {
   "display_name": "Python 3 (ipykernel)",
   "language": "python",
   "name": "python3"
  },
  "language_info": {
   "codemirror_mode": {
    "name": "ipython",
    "version": 3
   },
   "file_extension": ".py",
   "mimetype": "text/x-python",
   "name": "python",
   "nbconvert_exporter": "python",
   "pygments_lexer": "ipython3",
   "version": "3.10.9"
  }
 },
 "nbformat": 4,
 "nbformat_minor": 5
}
