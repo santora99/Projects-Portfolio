{
 "cells": [
  {
   "cell_type": "code",
   "execution_count": 1,
   "id": "edd08164",
   "metadata": {},
   "outputs": [
    {
     "name": "stdout",
     "output_type": "stream",
     "text": [
      "Enter a number 5\n",
      "5 * 1 = 5\n",
      "5 * 2 = 10\n",
      "5 * 3 = 15\n",
      "5 * 4 = 20\n",
      "5 * 5 = 25\n",
      "5 * 6 = 30\n",
      "5 * 7 = 35\n",
      "5 * 8 = 40\n",
      "5 * 9 = 45\n",
      "5 * 10 = 50\n"
     ]
    }
   ],
   "source": [
    "#Ask user to enter a number\n",
    "myNum = int(input(\"Enter a number \"))\n",
    "\n",
    "#Set the range to print table multiplied from 1-10\n",
    "myRange = range(1,11)\n",
    "\n",
    "for x in myRange:\n",
    "    result = myNum * x\n",
    "    print(myNum, \"*\",x,\"=\",result)"
   ]
  },
  {
   "cell_type": "code",
   "execution_count": 2,
   "id": "d14d1b6c",
   "metadata": {},
   "outputs": [
    {
     "name": "stdout",
     "output_type": "stream",
     "text": [
      "Enter the maximum possible score: 100\n",
      "Enter the student's score: 95\n",
      "\n",
      "Student's Score: 95.0\n",
      "Maximum Possible Score: 100.0\n",
      "Percentage Grade: 95.0 %\n",
      "Grade: A\n",
      "\n",
      "Do you want to calculate grades for another student? (yes/no): yes\n",
      "Enter the maximum possible score: 50\n",
      "Enter the student's score: 43\n",
      "\n",
      "Student's Score: 43.0\n",
      "Maximum Possible Score: 50.0\n",
      "Percentage Grade: 86.0 %\n",
      "Grade: B\n",
      "\n",
      "Do you want to calculate grades for another student? (yes/no): no\n"
     ]
    }
   ],
   "source": [
    "while True:\n",
    "    max_score = float(input(\"Enter the maximum possible score: \"))\n",
    "    score = float(input(\"Enter the student's score: \"))\n",
    "    \n",
    "    percentage = (score / max_score) * 100\n",
    "    grade = 'A' if percentage >= 90 else 'B' if percentage >= 80 else 'C' if percentage >= 70 else 'D' if percentage >= 60 else 'F'\n",
    "    \n",
    "    print(\"\\nStudent's Score:\", score)\n",
    "    print(\"Maximum Possible Score:\", max_score)\n",
    "    print(\"Percentage Grade:\", percentage, \"%\")\n",
    "    print(\"Grade:\", grade)\n",
    "    \n",
    "    if input(\"\\nDo you want to calculate grades for another student? (yes/no): \").lower() != 'yes':\n",
    "        break"
   ]
  },
  {
   "cell_type": "code",
   "execution_count": null,
   "id": "d5db518f",
   "metadata": {},
   "outputs": [],
   "source": []
  }
 ],
 "metadata": {
  "kernelspec": {
   "display_name": "Python 3 (ipykernel)",
   "language": "python",
   "name": "python3"
  },
  "language_info": {
   "codemirror_mode": {
    "name": "ipython",
    "version": 3
   },
   "file_extension": ".py",
   "mimetype": "text/x-python",
   "name": "python",
   "nbconvert_exporter": "python",
   "pygments_lexer": "ipython3",
   "version": "3.10.9"
  }
 },
 "nbformat": 4,
 "nbformat_minor": 5
}
